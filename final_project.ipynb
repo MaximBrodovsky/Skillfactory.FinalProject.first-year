{
 "cells": [
  {
   "cell_type": "code",
   "execution_count": 29,
   "metadata": {},
   "outputs": [],
   "source": [
    "import pandas as pd\n",
    "import numpy as np\n",
    "import ast\n",
    "import seaborn as sns\n",
    "import matplotlib.pyplot as plt\n",
    "from sklearn.model_selection import train_test_split\n",
    "from sklearn.linear_model import LinearRegression\n",
    "from sklearn.linear_model import Ridge\n",
    "from sklearn.tree import DecisionTreeRegressor\n",
    "from sklearn.ensemble import RandomForestRegressor\n",
    "from xgboost import XGBRegressor\n",
    "from sklearn.metrics import mean_squared_error\n",
    "from sklearn.preprocessing import StandardScaler\n",
    "from sklearn.model_selection import GridSearchCV"
   ]
  },
  {
   "cell_type": "markdown",
   "metadata": {},
   "source": [
    "Загрузим и изучим данные."
   ]
  },
  {
   "cell_type": "code",
   "execution_count": 30,
   "metadata": {},
   "outputs": [
    {
     "data": {
      "text/html": [
       "<div>\n",
       "<style scoped>\n",
       "    .dataframe tbody tr th:only-of-type {\n",
       "        vertical-align: middle;\n",
       "    }\n",
       "\n",
       "    .dataframe tbody tr th {\n",
       "        vertical-align: top;\n",
       "    }\n",
       "\n",
       "    .dataframe thead th {\n",
       "        text-align: right;\n",
       "    }\n",
       "</style>\n",
       "<table border=\"1\" class=\"dataframe\">\n",
       "  <thead>\n",
       "    <tr style=\"text-align: right;\">\n",
       "      <th></th>\n",
       "      <th>status</th>\n",
       "      <th>private pool</th>\n",
       "      <th>propertyType</th>\n",
       "      <th>street</th>\n",
       "      <th>baths</th>\n",
       "      <th>homeFacts</th>\n",
       "      <th>fireplace</th>\n",
       "      <th>city</th>\n",
       "      <th>schools</th>\n",
       "      <th>sqft</th>\n",
       "      <th>zipcode</th>\n",
       "      <th>beds</th>\n",
       "      <th>state</th>\n",
       "      <th>stories</th>\n",
       "      <th>mls-id</th>\n",
       "      <th>PrivatePool</th>\n",
       "      <th>MlsId</th>\n",
       "      <th>target</th>\n",
       "    </tr>\n",
       "  </thead>\n",
       "  <tbody>\n",
       "    <tr>\n",
       "      <th>0</th>\n",
       "      <td>Active</td>\n",
       "      <td>NaN</td>\n",
       "      <td>Single Family Home</td>\n",
       "      <td>240 Heather Ln</td>\n",
       "      <td>3.5</td>\n",
       "      <td>{'atAGlanceFacts': [{'factValue': '2019', 'fac...</td>\n",
       "      <td>Gas Logs</td>\n",
       "      <td>Southern Pines</td>\n",
       "      <td>[{'rating': ['4', '4', '7', 'NR', '4', '7', 'N...</td>\n",
       "      <td>2900</td>\n",
       "      <td>28387</td>\n",
       "      <td>4</td>\n",
       "      <td>NC</td>\n",
       "      <td>NaN</td>\n",
       "      <td>NaN</td>\n",
       "      <td>NaN</td>\n",
       "      <td>611019</td>\n",
       "      <td>$418,000</td>\n",
       "    </tr>\n",
       "    <tr>\n",
       "      <th>1</th>\n",
       "      <td>for sale</td>\n",
       "      <td>NaN</td>\n",
       "      <td>single-family home</td>\n",
       "      <td>12911 E Heroy Ave</td>\n",
       "      <td>3 Baths</td>\n",
       "      <td>{'atAGlanceFacts': [{'factValue': '2019', 'fac...</td>\n",
       "      <td>NaN</td>\n",
       "      <td>Spokane Valley</td>\n",
       "      <td>[{'rating': ['4/10', 'None/10', '4/10'], 'data...</td>\n",
       "      <td>1,947 sqft</td>\n",
       "      <td>99216</td>\n",
       "      <td>3 Beds</td>\n",
       "      <td>WA</td>\n",
       "      <td>2.0</td>\n",
       "      <td>NaN</td>\n",
       "      <td>NaN</td>\n",
       "      <td>201916904</td>\n",
       "      <td>$310,000</td>\n",
       "    </tr>\n",
       "    <tr>\n",
       "      <th>2</th>\n",
       "      <td>for sale</td>\n",
       "      <td>NaN</td>\n",
       "      <td>single-family home</td>\n",
       "      <td>2005 Westridge Rd</td>\n",
       "      <td>2 Baths</td>\n",
       "      <td>{'atAGlanceFacts': [{'factValue': '1961', 'fac...</td>\n",
       "      <td>yes</td>\n",
       "      <td>Los Angeles</td>\n",
       "      <td>[{'rating': ['8/10', '4/10', '8/10'], 'data': ...</td>\n",
       "      <td>3,000 sqft</td>\n",
       "      <td>90049</td>\n",
       "      <td>3 Beds</td>\n",
       "      <td>CA</td>\n",
       "      <td>1.0</td>\n",
       "      <td>NaN</td>\n",
       "      <td>yes</td>\n",
       "      <td>FR19221027</td>\n",
       "      <td>$2,895,000</td>\n",
       "    </tr>\n",
       "    <tr>\n",
       "      <th>3</th>\n",
       "      <td>for sale</td>\n",
       "      <td>NaN</td>\n",
       "      <td>single-family home</td>\n",
       "      <td>4311 Livingston Ave</td>\n",
       "      <td>8 Baths</td>\n",
       "      <td>{'atAGlanceFacts': [{'factValue': '2006', 'fac...</td>\n",
       "      <td>yes</td>\n",
       "      <td>Dallas</td>\n",
       "      <td>[{'rating': ['9/10', '9/10', '10/10', '9/10'],...</td>\n",
       "      <td>6,457 sqft</td>\n",
       "      <td>75205</td>\n",
       "      <td>5 Beds</td>\n",
       "      <td>TX</td>\n",
       "      <td>3.0</td>\n",
       "      <td>NaN</td>\n",
       "      <td>NaN</td>\n",
       "      <td>14191809</td>\n",
       "      <td>$2,395,000</td>\n",
       "    </tr>\n",
       "    <tr>\n",
       "      <th>4</th>\n",
       "      <td>for sale</td>\n",
       "      <td>NaN</td>\n",
       "      <td>lot/land</td>\n",
       "      <td>1524 Kiscoe St</td>\n",
       "      <td>NaN</td>\n",
       "      <td>{'atAGlanceFacts': [{'factValue': '', 'factLab...</td>\n",
       "      <td>NaN</td>\n",
       "      <td>Palm Bay</td>\n",
       "      <td>[{'rating': ['4/10', '5/10', '5/10'], 'data': ...</td>\n",
       "      <td>NaN</td>\n",
       "      <td>32908</td>\n",
       "      <td>NaN</td>\n",
       "      <td>FL</td>\n",
       "      <td>NaN</td>\n",
       "      <td>NaN</td>\n",
       "      <td>NaN</td>\n",
       "      <td>861745</td>\n",
       "      <td>$5,000</td>\n",
       "    </tr>\n",
       "  </tbody>\n",
       "</table>\n",
       "</div>"
      ],
      "text/plain": [
       "     status private pool        propertyType               street    baths  \\\n",
       "0    Active          NaN  Single Family Home       240 Heather Ln      3.5   \n",
       "1  for sale          NaN  single-family home    12911 E Heroy Ave  3 Baths   \n",
       "2  for sale          NaN  single-family home    2005 Westridge Rd  2 Baths   \n",
       "3  for sale          NaN  single-family home  4311 Livingston Ave  8 Baths   \n",
       "4  for sale          NaN            lot/land       1524 Kiscoe St      NaN   \n",
       "\n",
       "                                           homeFacts fireplace  \\\n",
       "0  {'atAGlanceFacts': [{'factValue': '2019', 'fac...  Gas Logs   \n",
       "1  {'atAGlanceFacts': [{'factValue': '2019', 'fac...       NaN   \n",
       "2  {'atAGlanceFacts': [{'factValue': '1961', 'fac...       yes   \n",
       "3  {'atAGlanceFacts': [{'factValue': '2006', 'fac...       yes   \n",
       "4  {'atAGlanceFacts': [{'factValue': '', 'factLab...       NaN   \n",
       "\n",
       "             city                                            schools  \\\n",
       "0  Southern Pines  [{'rating': ['4', '4', '7', 'NR', '4', '7', 'N...   \n",
       "1  Spokane Valley  [{'rating': ['4/10', 'None/10', '4/10'], 'data...   \n",
       "2     Los Angeles  [{'rating': ['8/10', '4/10', '8/10'], 'data': ...   \n",
       "3          Dallas  [{'rating': ['9/10', '9/10', '10/10', '9/10'],...   \n",
       "4        Palm Bay  [{'rating': ['4/10', '5/10', '5/10'], 'data': ...   \n",
       "\n",
       "         sqft zipcode    beds state stories mls-id PrivatePool       MlsId  \\\n",
       "0        2900   28387       4    NC     NaN    NaN         NaN      611019   \n",
       "1  1,947 sqft   99216  3 Beds    WA     2.0    NaN         NaN   201916904   \n",
       "2  3,000 sqft   90049  3 Beds    CA     1.0    NaN         yes  FR19221027   \n",
       "3  6,457 sqft   75205  5 Beds    TX     3.0    NaN         NaN    14191809   \n",
       "4         NaN   32908     NaN    FL     NaN    NaN         NaN      861745   \n",
       "\n",
       "       target  \n",
       "0    $418,000  \n",
       "1    $310,000  \n",
       "2  $2,895,000  \n",
       "3  $2,395,000  \n",
       "4      $5,000  "
      ]
     },
     "execution_count": 30,
     "metadata": {},
     "output_type": "execute_result"
    }
   ],
   "source": [
    "df = pd.read_csv('data/data.csv')\n",
    "df.head()"
   ]
  },
  {
   "cell_type": "code",
   "execution_count": 31,
   "metadata": {},
   "outputs": [
    {
     "name": "stdout",
     "output_type": "stream",
     "text": [
      "Размер набора данных: (377185, 18)\n"
     ]
    }
   ],
   "source": [
    "print('Размер набора данных:', df.shape)"
   ]
  },
  {
   "cell_type": "markdown",
   "metadata": {},
   "source": [
    "Проверим наличие повторяющихся строк и удалим их при необходимости."
   ]
  },
  {
   "cell_type": "code",
   "execution_count": 32,
   "metadata": {},
   "outputs": [
    {
     "name": "stdout",
     "output_type": "stream",
     "text": [
      "False    377135\n",
      "True         50\n",
      "dtype: int64\n"
     ]
    }
   ],
   "source": [
    "print(df.duplicated().value_counts())\n",
    "df = df.drop_duplicates()"
   ]
  },
  {
   "cell_type": "markdown",
   "metadata": {},
   "source": [
    "Проверим, есть ли пропуски в данных. Укажем процент таких пропусков для каждого столбца."
   ]
  },
  {
   "cell_type": "code",
   "execution_count": 33,
   "metadata": {},
   "outputs": [
    {
     "data": {
      "text/plain": [
       "status          10.584274\n",
       "private pool    98.891378\n",
       "propertyType     9.209699\n",
       "street           0.000530\n",
       "baths           28.188315\n",
       "homeFacts        0.000000\n",
       "fireplace       72.659127\n",
       "city             0.009015\n",
       "schools          0.000000\n",
       "sqft            10.752118\n",
       "zipcode          0.000000\n",
       "beds            24.196640\n",
       "state            0.000000\n",
       "stories         39.952007\n",
       "mls-id          93.386453\n",
       "PrivatePool     89.311520\n",
       "MlsId           17.730786\n",
       "target           0.657589\n",
       "dtype: float64"
      ]
     },
     "execution_count": 33,
     "metadata": {},
     "output_type": "execute_result"
    }
   ],
   "source": [
    "df.isna().sum()/df.shape[0]*100"
   ]
  },
  {
   "cell_type": "markdown",
   "metadata": {},
   "source": [
    "Обратим внимание, что есть столбцы со схожими названиями: private pool и PrivatePool, mls-id и MlsId. Объединим схожие столбцы."
   ]
  },
  {
   "cell_type": "code",
   "execution_count": 34,
   "metadata": {},
   "outputs": [],
   "source": [
    "df['private_pool'] = df[['private pool', 'PrivatePool']].apply(\n",
    "    lambda x: 0 if (x[0] is np.NaN) and (x[1] is np.NaN) else 1, axis=1\n",
    ")\n",
    "df = df.drop(['private pool', 'PrivatePool'], axis=1)\n",
    "\n",
    "mask = df['MlsId'].isna()\n",
    "df.loc[~mask, 'MlsId'] = df[~mask]['MlsId'].apply(\n",
    "    lambda x: np.NaN if x.strip().lower() in ('no mls', 'no mls #', 'no', 'nomlsid') else x\n",
    ")\n",
    "\n",
    "mask = df['mls-id'].isna()\n",
    "df.loc[~mask, 'mls-id'] = df[~mask]['mls-id'].apply(\n",
    "    lambda x: np.NaN if x.strip().lower() in ('no mls#', 'no') else x\n",
    ")\n",
    "df['mlsid'] = df[['mls-id', 'MlsId']].apply(\n",
    "    lambda x: 0 if (x[0] is np.NaN) and (x[1] is np.NaN) else 1, axis=1\n",
    ")\n",
    "df = df.drop(['mls-id', 'MlsId'], axis=1)"
   ]
  },
  {
   "cell_type": "markdown",
   "metadata": {},
   "source": [
    "Теперь извлечем информацию из столбца homeFacts."
   ]
  },
  {
   "cell_type": "code",
   "execution_count": 35,
   "metadata": {},
   "outputs": [],
   "source": [
    "def get_homefacts(string):\n",
    "    facts_list = ast.literal_eval(string)['atAGlanceFacts']\n",
    "    return (\n",
    "        facts_list[0]['factValue'],\n",
    "        facts_list[1]['factValue'],\n",
    "        facts_list[2]['factValue'],\n",
    "        facts_list[3]['factValue'],\n",
    "        facts_list[4]['factValue'],\n",
    "        facts_list[5]['factValue'],\n",
    "        facts_list[6]['factValue']\n",
    "    )\n",
    "\n",
    "(\n",
    "    df['year_built'],\n",
    "    df['year_remodeled'],\n",
    "    df['heating'],\n",
    "    df['cooling'],\n",
    "    df['parking'],\n",
    "    df['lot_size'],\n",
    "    df['price_sqft']\n",
    ") = zip(*df['homeFacts'].apply(get_homefacts))\n",
    "\n",
    "df = df.drop(['homeFacts'], axis=1)"
   ]
  },
  {
   "cell_type": "markdown",
   "metadata": {},
   "source": [
    "Извлечем информацию из столбца schools."
   ]
  },
  {
   "cell_type": "code",
   "execution_count": 36,
   "metadata": {},
   "outputs": [
    {
     "name": "stderr",
     "output_type": "stream",
     "text": [
      "C:\\Users\\maxim\\AppData\\Local\\Packages\\PythonSoftwareFoundation.Python.3.10_qbz5n2kfra8p0\\LocalCache\\local-packages\\Python310\\site-packages\\numpy\\core\\fromnumeric.py:3432: RuntimeWarning: Mean of empty slice.\n",
      "  return _methods._mean(a, axis=axis, dtype=dtype,\n"
     ]
    }
   ],
   "source": [
    "def get_schools_info(string):\n",
    "    school_dict = ast.literal_eval(string)\n",
    "    rates = list()\n",
    "    for rate in school_dict[0]['rating']:\n",
    "         if rate == 'NR':\n",
    "           rates.append(0)\n",
    "         else:\n",
    "           if rate.split('/')[0] in ('None', 'NR', 'NA', ''):\n",
    "              rates.append(0)\n",
    "           else:\n",
    "              rates.append(int(rate.split('/')[0]))\n",
    "    distances = list()\n",
    "    for distance in school_dict[0]['data']['Distance']:\n",
    "        distances.append(float(distance[:-2]))\n",
    "    grades = list()\n",
    "    for grade in school_dict[0]['data']['Grades']:\n",
    "        grades.append(grade)\n",
    "    return np.mean(rates), np.mean(distances), grades\n",
    "\n",
    "df['school_rate_mean'], df['school_distance_mean'], df['grades'] = zip(*df['schools'].apply(get_schools_info))\n",
    "\n",
    "df = df.drop(['schools'], axis=1)"
   ]
  },
  {
   "cell_type": "markdown",
   "metadata": {},
   "source": [
    "Обработаем столбцы с числовыми показателями, которые содержат лишнюю текстовую информацию."
   ]
  },
  {
   "cell_type": "code",
   "execution_count": 37,
   "metadata": {},
   "outputs": [],
   "source": [
    "df['baths'] = df['baths'].str.extract('(\\d+)')\n",
    "df['beds'] = df['beds'].str.extract('(\\d+)')\n",
    "df['sqft'] = df['sqft'].str.extract('(\\d+)')\n",
    "df['price_sqft'] = df['price_sqft'].str.extract('(\\d+)')\n",
    "df['price_sqft'] = df['price_sqft'].astype(float)\n",
    "df['target'] = df['target'].str.replace(',','').str.extract('(\\d+)')"
   ]
  },
  {
   "cell_type": "markdown",
   "metadata": {},
   "source": [
    "Удалим столбцы, из которых сложно извлечь полезную информацию."
   ]
  },
  {
   "cell_type": "code",
   "execution_count": 38,
   "metadata": {},
   "outputs": [],
   "source": [
    "df = df.drop(['grades', 'street', 'city', 'stories'], axis=1)\n",
    "df = df.drop([], axis=1)"
   ]
  },
  {
   "cell_type": "markdown",
   "metadata": {},
   "source": [
    "Разберемся с пропусками в столбце heating и на основе него создадим несколько бинарных признаков."
   ]
  },
  {
   "cell_type": "code",
   "execution_count": 39,
   "metadata": {},
   "outputs": [
    {
     "name": "stdout",
     "output_type": "stream",
     "text": [
      "forced air             139492\n",
      "                       107969\n",
      "other                   30147\n",
      "electric                16412\n",
      "central                 12644\n",
      "heat pump               12379\n",
      "gas                     11528\n",
      "central air              9867\n",
      "central electric         8768\n",
      "no data                  8610\n",
      "baseboard                4490\n",
      "wall                     3541\n",
      "no heat                  3534\n",
      "electric heat            3204\n",
      "heating system           2709\n",
      "ceiling fan(s)           1970\n",
      "radiant                  1866\n",
      "natural gas              1626\n",
      "gas hot air/furnace      1486\n",
      "natural gas heat         1471\n",
      "Name: heating, dtype: int64\n"
     ]
    }
   ],
   "source": [
    "df['heating'] = df['heating'].str.lower()\n",
    "df['heating'] = df['heating'].fillna('no heat')\n",
    "print(df['heating'].str.split(', ').explode().value_counts()[:20])\n",
    "\n",
    "df['heat_system'] = df['heating'].apply(lambda x: 0 if x.strip() in ('', 'no data', 'no', 'none', 'no heating', 'no heat') else 1)\n",
    "df['forced air'] = df['heating'].apply(lambda x: 1 if 'forced air' in x else 0)\n",
    "df['heat_electric'] = df['heating'].apply(lambda x: 1 if 'electric' in x else 0)\n",
    "df['heat_central'] = df['heating'].apply(lambda x: 1 if 'central' in x else 0)\n",
    "df['heat_gas'] = df['heating'].apply(lambda x: 1 if 'gas' in x else 0)\n",
    "\n",
    "df = df.drop(['heating'], axis=1)"
   ]
  },
  {
   "cell_type": "markdown",
   "metadata": {},
   "source": [
    "Аналогично разберемся со столбцом cooling."
   ]
  },
  {
   "cell_type": "code",
   "execution_count": 40,
   "metadata": {},
   "outputs": [
    {
     "name": "stdout",
     "output_type": "stream",
     "text": [
      "central                    162214\n",
      "                           120470\n",
      "central air                 18296\n",
      "no data                     10615\n",
      "has cooling                  9730\n",
      "central electric             7976\n",
      "none                         7441\n",
      "wall                         4845\n",
      "central gas                  4600\n",
      "central a/c (electric)       3907\n",
      "no cool                      3533\n",
      "central heating              3332\n",
      "electric                     2838\n",
      "refrigeration                2767\n",
      "cooling system               2700\n",
      "central a/c                  2681\n",
      "zoned                        2352\n",
      "other                        2337\n",
      "central heat (gas)           2233\n",
      "central heat (electric)      1694\n",
      "Name: cooling, dtype: int64\n"
     ]
    }
   ],
   "source": [
    "df['cooling'] = df['cooling'].str.lower()\n",
    "df['cooling'] = df['cooling'].fillna('no cool')\n",
    "print(df['cooling'].str.split(', ').explode().value_counts()[:20])\n",
    "\n",
    "df['cooling_system'] = df['cooling'].apply(lambda x: 0 if x.strip() in ('', 'no data', 'none', 'no cool', 'no') else 1)\n",
    "df['cooling_central'] = df['cooling'].apply(lambda x: 1 if 'central' in x else 0)\n",
    "\n",
    "df = df.drop(['cooling'], axis=1)"
   ]
  },
  {
   "cell_type": "markdown",
   "metadata": {},
   "source": [
    "Извлечем полезную информацию из столбца parking."
   ]
  },
  {
   "cell_type": "code",
   "execution_count": 41,
   "metadata": {},
   "outputs": [
    {
     "name": "stdout",
     "output_type": "stream",
     "text": [
      "                        171856\n",
      "attached garage          80461\n",
      "2 spaces                 28061\n",
      "detached garage          17018\n",
      "1 space                  14253\n",
      "no data                  13333\n",
      "carport                  13175\n",
      "off street                8181\n",
      "3 spaces                  4724\n",
      "no parking                3542\n",
      "on street                 3370\n",
      "1                         2936\n",
      "4 spaces                  2917\n",
      "2                         2756\n",
      "driveway                  2654\n",
      "none                      2405\n",
      "garage door opener        1720\n",
      "garage - 2 car            1559\n",
      "electric door opener      1133\n",
      "0                         1114\n",
      "Name: parking, dtype: int64\n"
     ]
    }
   ],
   "source": [
    "df['parking'] = df['parking'].str.lower()\n",
    "df['parking'] = df['parking'].fillna('no parking')\n",
    "print(df['parking'].str.split(', ').explode().value_counts()[:20])\n",
    "\n",
    "df['has_parking'] = df['parking'].apply(lambda x: 0 if x.strip() in ('', 'no data', 'none', 'no parking', 'no') else 1)\n",
    "df['garage'] = df['parking'].apply(lambda x: 1 if 'garage' in x else 0)\n",
    "df['parking_spaces'] = df['parking'].str.extract('(\\d+)')\n",
    "\n",
    "df = df.drop(['parking'], axis=1)"
   ]
  },
  {
   "cell_type": "markdown",
   "metadata": {},
   "source": [
    "Аналогично обработаем столбец status."
   ]
  },
  {
   "cell_type": "code",
   "execution_count": 42,
   "metadata": {},
   "outputs": [
    {
     "name": "stdout",
     "output_type": "stream",
     "text": [
      "for sale                     199524\n",
      "active                       105207\n",
      "no status                     39917\n",
      "foreclosure                    6768\n",
      "new construction               5474\n",
      "pending                        4807\n",
      "pre-foreclosure                2119\n",
      "pre-foreclosure / auction      1560\n",
      "p                              1488\n",
      "under contract show            1183\n",
      " / auction                      936\n",
      "under contract   showing        793\n",
      "active under contract           718\n",
      "under contract                  692\n",
      "new                             690\n",
      "contingent                      581\n",
      "price change                    563\n",
      "auction                         536\n",
      "foreclosed                      459\n",
      "a active                        443\n",
      "Name: status, dtype: int64\n"
     ]
    }
   ],
   "source": [
    "df['status'] = df['status'].str.lower()\n",
    "df['status'] = df['status'].fillna('no status')\n",
    "print(df['status'].value_counts()[:20])\n",
    "\n",
    "df['for_sale'] = df['status'].apply(lambda x: 1 if 'for sale' in x else 0)\n",
    "df['active'] = df['status'].apply(lambda x: 1 if 'active' in x else 0)\n",
    "df['foreclosure'] = df['status'].apply(lambda x: 1 if 'foreclosure' in x or 'foreclosed' in x or 'auction' in x else 0)\n",
    "df['new_construction'] = df['status'].apply(lambda x: 1 if 'new construction' in x else 0)\n",
    "\n",
    "df = df.drop(['status'], axis=1)"
   ]
  },
  {
   "cell_type": "markdown",
   "metadata": {},
   "source": [
    "Обработаем столбец propertyType."
   ]
  },
  {
   "cell_type": "code",
   "execution_count": 43,
   "metadata": {},
   "outputs": [
    {
     "name": "stdout",
     "output_type": "stream",
     "text": [
      "single-family home               92199\n",
      "single family                    62867\n",
      "condo                            42525\n",
      "no data                          34733\n",
      "single family home               31728\n",
      "lot/land                         20526\n",
      "townhouse                        18392\n",
      "land                             10934\n",
      "multi-family                      7921\n",
      "condo/townhome/row home/co-op     7701\n",
      "traditional                       5913\n",
      "coop                              3265\n",
      "multi family                      2793\n",
      "high rise                         1823\n",
      "ranch                             1781\n",
      "mobile/manufactured               1618\n",
      "detached, one story               1614\n",
      "single detached, traditional      1581\n",
      "contemporary                      1557\n",
      "multi-family home                 1501\n",
      "Name: propertyType, dtype: int64\n"
     ]
    }
   ],
   "source": [
    "df['propertyType'] = df['propertyType'].str.lower()\n",
    "df['propertyType'] = df['propertyType'].fillna('no data')\n",
    "print(df['propertyType'].value_counts()[:20])\n",
    "\n",
    "df['single_family'] = df['propertyType'].apply(lambda x: 1 if 'single-family' in x or 'single family' in x else 0)\n",
    "df['multi_family'] = df['propertyType'].apply(lambda x: 1 if 'multi-family' in x or 'multi family' in x else 0)\n",
    "df['condo'] = df['propertyType'].apply(lambda x: 1 if 'condo' in x else 0)\n",
    "df['land'] = df['propertyType'].apply(lambda x: 1 if 'lot' in x or 'land' in x else 0)\n",
    "\n",
    "df = df.drop(['propertyType'], axis=1)"
   ]
  },
  {
   "cell_type": "markdown",
   "metadata": {},
   "source": [
    "Заполним пустые значения некоторых столбцов, исходя из общих сообращений."
   ]
  },
  {
   "cell_type": "code",
   "execution_count": 44,
   "metadata": {},
   "outputs": [],
   "source": [
    "df['baths'] = df['baths'].fillna(1)\n",
    "df['fireplace'] = df['fireplace'].fillna(0)\n",
    "df['beds'] = df['beds'].fillna(1)\n",
    "df['parking_spaces'] = df['parking_spaces'].fillna(0)"
   ]
  },
  {
   "cell_type": "markdown",
   "metadata": {},
   "source": [
    "Сделаем из столбца fireplace бинарный признак."
   ]
  },
  {
   "cell_type": "code",
   "execution_count": 45,
   "metadata": {},
   "outputs": [],
   "source": [
    "df['fireplace'] = df['fireplace'].apply(lambda x: 1 if x != 0 else 0)"
   ]
  },
  {
   "cell_type": "markdown",
   "metadata": {},
   "source": [
    "Заполним пробелы полей year_built и year_remodeled."
   ]
  },
  {
   "cell_type": "code",
   "execution_count": 46,
   "metadata": {},
   "outputs": [],
   "source": [
    "mask = df['year_built'].isna()\n",
    "df.loc[~mask, 'year_built'] = df[~mask]['year_built'].apply(lambda x: np.NaN if x.strip().lower() == 'no data' else x)\n",
    "df['year_built'] = df['year_built'].apply(lambda x: np.NaN if x == '' else x)\n",
    "\n",
    "mask = df['year_remodeled'].isna()\n",
    "df.loc[~mask, 'year_remodeled'] = df[~mask]['year_remodeled'].apply(lambda x: np.NaN if x.strip().lower() == 'no data' else x)\n",
    "df['year_remodeled'] = df['year_remodeled'].apply(lambda x: np.NaN if x == '' else x)\n",
    "\n",
    "mask = df['year_built'].isna()\n",
    "df.loc[mask, 'year_built'] = df[mask]['year_remodeled']\n",
    "\n",
    "mask = df['year_remodeled'].isna()\n",
    "df.loc[mask, 'year_remodeled'] = df[mask]['year_built']\n",
    "\n",
    "df['year_built'] = df['year_built'].astype('float')\n",
    "year_zipcode = df[~mask].groupby(by=['zipcode']).agg({'year_built' : ['count', 'mean']})\n",
    "year_state = df[~mask].groupby(by=['state']).agg({'year_built' : ['count', 'mean']})\n",
    "\n",
    "mask1 = df['year_built'].isna()\n",
    "for zipcode in year_zipcode.index:\n",
    "    mask2 = df['zipcode'] == zipcode\n",
    "    if year_zipcode.loc[zipcode, ('year_built', 'count')] > 4:\n",
    "        df.loc[mask1&mask2, 'year_built'] = year_zipcode.loc[zipcode, ('year_built', 'mean')]\n",
    "\n",
    "for state in year_state.index:\n",
    "    mask2 = df['state'] == state\n",
    "    df.loc[mask1&mask2, 'year_built'] = year_state.loc[state, ('year_built', 'mean')]\n",
    "\n",
    "mask = df['year_remodeled'].isna()\n",
    "df.loc[mask, 'year_remodeled'] = df[mask]['year_built']"
   ]
  },
  {
   "cell_type": "markdown",
   "metadata": {},
   "source": [
    "Заполним пробелы поля sqft."
   ]
  },
  {
   "cell_type": "code",
   "execution_count": 47,
   "metadata": {},
   "outputs": [],
   "source": [
    "df['sqft'] = df['sqft'].apply(lambda x: np.NaN if x == '' else x)\n",
    "df['sqft'] = df['sqft'].astype(float)\n",
    "mask = df['sqft'].isna()\n",
    "year_zipcode = df[~mask].groupby(by=['zipcode']).agg({'sqft' : ['count', 'mean']})\n",
    "year_state = df[~mask].groupby(by=['state']).agg({'sqft' : ['count', 'mean']})\n",
    "\n",
    "mask1 = df['sqft'].isna()\n",
    "for zipcode in year_zipcode.index:\n",
    "    mask2 = df['zipcode'] == zipcode\n",
    "    if year_zipcode.loc[zipcode, ('sqft', 'count')] > 4:\n",
    "        df.loc[mask1&mask2, 'sqft'] = year_zipcode.loc[zipcode, ('sqft', 'mean')]\n",
    "\n",
    "for state in year_state.index:\n",
    "    mask2 = df['state'] == state\n",
    "    df.loc[mask1&mask2, 'sqft'] = year_state.loc[state, ('sqft', 'mean')]"
   ]
  },
  {
   "cell_type": "markdown",
   "metadata": {},
   "source": [
    "Заполним пробелы поля lot_size."
   ]
  },
  {
   "cell_type": "code",
   "execution_count": 48,
   "metadata": {},
   "outputs": [],
   "source": [
    "df['lot_size'] = df['lot_size'].apply(lambda x: np.NaN if x == '' else x)\n",
    "df['lot_size'] = df['lot_size'].str.replace(',','').str.extract('(\\d+)')\n",
    "df['lot_size'] = df['lot_size'].astype(float)\n",
    "\n",
    "mask = df['lot_size'].isna()\n",
    "year_zipcode = df[~mask].groupby(by=['zipcode']).agg({'lot_size' : ['count', 'mean']})\n",
    "year_state = df[~mask].groupby(by=['state']).agg({'lot_size' : ['count', 'mean']})\n",
    "\n",
    "mask1 = df['lot_size'].isna()\n",
    "for zipcode in year_zipcode.index:\n",
    "    mask2 = df['zipcode'] == zipcode\n",
    "    if year_zipcode.loc[zipcode, ('lot_size', 'count')] > 4:\n",
    "        df.loc[mask1&mask2, 'lot_size'] = year_zipcode.loc[zipcode, ('lot_size', 'mean')]\n",
    "\n",
    "for state in year_state.index:\n",
    "    mask2 = df['state'] == state\n",
    "    df.loc[mask1&mask2, 'lot_size'] = year_state.loc[state, ('lot_size', 'mean')]"
   ]
  },
  {
   "cell_type": "markdown",
   "metadata": {},
   "source": [
    "Заполним пробелы поля school_rate_mean."
   ]
  },
  {
   "cell_type": "code",
   "execution_count": 49,
   "metadata": {},
   "outputs": [],
   "source": [
    "mask = df['school_rate_mean'].isna()\n",
    "year_zipcode = df[~mask].groupby(by=['zipcode']).agg({'school_rate_mean' : ['count', 'mean']})\n",
    "year_state = df[~mask].groupby(by=['state']).agg({'school_rate_mean' : ['count', 'mean']})\n",
    "\n",
    "mask1 = df['school_rate_mean'].isna()\n",
    "for zipcode in year_zipcode.index:\n",
    "    mask2 = df['zipcode'] == zipcode\n",
    "    if year_zipcode.loc[zipcode, ('school_rate_mean', 'count')] > 4:\n",
    "        df.loc[mask1&mask2, 'school_rate_mean'] = year_zipcode.loc[zipcode, ('school_rate_mean', 'mean')]\n",
    "\n",
    "for state in year_state.index:\n",
    "    mask2 = df['state'] == state\n",
    "    df.loc[mask1&mask2, 'school_rate_mean'] = year_state.loc[state, ('school_rate_mean', 'mean')]"
   ]
  },
  {
   "cell_type": "markdown",
   "metadata": {},
   "source": [
    "Заполним пробелы поля school_distance_mean."
   ]
  },
  {
   "cell_type": "code",
   "execution_count": 50,
   "metadata": {},
   "outputs": [],
   "source": [
    "mask = df['school_distance_mean'].isna()\n",
    "year_zipcode = df[~mask].groupby(by=['zipcode']).agg({'school_distance_mean' : ['count', 'mean']})\n",
    "year_state = df[~mask].groupby(by=['state']).agg({'school_distance_mean' : ['count', 'mean']})\n",
    "\n",
    "mask1 = df['school_distance_mean'].isna()\n",
    "for zipcode in year_zipcode.index:\n",
    "    mask2 = df['zipcode'] == zipcode\n",
    "    if year_zipcode.loc[zipcode, ('school_distance_mean', 'count')] > 4:\n",
    "        df.loc[mask1&mask2, 'school_distance_mean'] = year_zipcode.loc[zipcode, ('school_distance_mean', 'mean')]\n",
    "\n",
    "for state in year_state.index:\n",
    "    mask2 = df['state'] == state\n",
    "    df.loc[mask1&mask2, 'school_distance_mean'] = year_state.loc[state, ('school_distance_mean', 'mean')]"
   ]
  },
  {
   "cell_type": "markdown",
   "metadata": {},
   "source": [
    "Попробуем заполнить пробелы в столбце target."
   ]
  },
  {
   "cell_type": "code",
   "execution_count": 51,
   "metadata": {},
   "outputs": [],
   "source": [
    "mask = df['target'].isna()\n",
    "df.loc[mask, 'target'] = df[mask][['price_sqft', 'sqft']].apply(\n",
    "    lambda x: x[0]*x[1] if x[0] is not np.NaN and x[0] is not np.NaN else np.NaN, axis=1\n",
    ")\n",
    "df = df.drop(['zipcode', 'price_sqft'], axis=1)"
   ]
  },
  {
   "cell_type": "markdown",
   "metadata": {},
   "source": [
    "Удалим строки с пустыми значениями, которые не удалось заполнить."
   ]
  },
  {
   "cell_type": "code",
   "execution_count": 52,
   "metadata": {},
   "outputs": [],
   "source": [
    "df = df.dropna()"
   ]
  },
  {
   "cell_type": "markdown",
   "metadata": {},
   "source": [
    "Приведем признаки к нужным типам."
   ]
  },
  {
   "cell_type": "code",
   "execution_count": 53,
   "metadata": {},
   "outputs": [],
   "source": [
    "df['baths'] = df['baths'].astype(int)\n",
    "df['beds'] = df['beds'].astype(int)\n",
    "df['target'] = df['target'].astype(float)\n",
    "df['year_built'] = df['year_built'].astype(int)\n",
    "df['year_remodeled'] = df['year_remodeled'].astype(float).astype(int)\n",
    "df['parking_spaces'] = df['parking_spaces'].astype(int)"
   ]
  },
  {
   "cell_type": "markdown",
   "metadata": {},
   "source": [
    "Закодируем признак state."
   ]
  },
  {
   "cell_type": "code",
   "execution_count": 80,
   "metadata": {},
   "outputs": [],
   "source": [
    "df = pd.concat([df, pd.get_dummies(df['state'])], axis=1)\n",
    "df = df.drop(['state'], axis=1)"
   ]
  },
  {
   "cell_type": "markdown",
   "metadata": {},
   "source": [
    "Найдем и удалим выбросы."
   ]
  },
  {
   "cell_type": "code",
   "execution_count": 55,
   "metadata": {},
   "outputs": [
    {
     "data": {
      "image/png": "[encoded data removed]",
      "text/plain": [
       "<Figure size 1500x800 with 1 Axes>"
      ]
     },
     "metadata": {},
     "output_type": "display_data"
    }
   ],
   "source": [
    "plt.figure(figsize=(15,8))\n",
    "plt.title('Количество ванных комнат')\n",
    "sns.boxplot(x=df['baths'])\n",
    "plt.show()"
   ]
  },
  {
   "cell_type": "code",
   "execution_count": 56,
   "metadata": {},
   "outputs": [],
   "source": [
    "mask = df['baths'] < 100\n",
    "df = df[mask]"
   ]
  },
  {
   "cell_type": "code",
   "execution_count": 57,
   "metadata": {},
   "outputs": [
    {
     "data": {
      "image/png": "[encoded data removed]",
      "text/plain": [
       "<Figure size 1500x800 with 1 Axes>"
      ]
     },
     "metadata": {},
     "output_type": "display_data"
    }
   ],
   "source": [
    "plt.figure(figsize=(15,8))\n",
    "plt.title('Площать дома')\n",
    "sns.boxplot(x=df['sqft'])\n",
    "plt.show()"
   ]
  },
  {
   "cell_type": "code",
   "execution_count": 58,
   "metadata": {},
   "outputs": [],
   "source": [
    "temp = df['sqft'].max()\n",
    "mask = df['sqft'] == temp\n",
    "df = df[~mask]"
   ]
  },
  {
   "cell_type": "code",
   "execution_count": 59,
   "metadata": {},
   "outputs": [
    {
     "data": {
      "image/png": "[encoded data removed]",
      "text/plain": [
       "<Figure size 1500x800 with 1 Axes>"
      ]
     },
     "metadata": {},
     "output_type": "display_data"
    }
   ],
   "source": [
    "plt.figure(figsize=(15,8))\n",
    "plt.title('Количество кроватей')\n",
    "sns.boxplot(x=df['beds'])\n",
    "plt.show()"
   ]
  },
  {
   "cell_type": "code",
   "execution_count": 60,
   "metadata": {},
   "outputs": [],
   "source": [
    "mask = df['beds'] <= 200\n",
    "df = df[mask]"
   ]
  },
  {
   "cell_type": "code",
   "execution_count": 63,
   "metadata": {},
   "outputs": [
    {
     "data": {
      "image/png": "[encoded data removed]",
      "text/plain": [
       "<Figure size 1500x800 with 1 Axes>"
      ]
     },
     "metadata": {},
     "output_type": "display_data"
    }
   ],
   "source": [
    "plt.figure(figsize=(15,8))\n",
    "plt.title('Год постройки')\n",
    "sns.boxplot(x=df['year_built'])\n",
    "plt.show()"
   ]
  },
  {
   "cell_type": "code",
   "execution_count": 62,
   "metadata": {},
   "outputs": [],
   "source": [
    "mask = df['year_built'] >= 1500\n",
    "df = df[mask]"
   ]
  },
  {
   "cell_type": "code",
   "execution_count": 64,
   "metadata": {},
   "outputs": [
    {
     "data": {
      "image/png": "[encoded data removed]",
      "text/plain": [
       "<Figure size 1500x800 with 1 Axes>"
      ]
     },
     "metadata": {},
     "output_type": "display_data"
    }
   ],
   "source": [
    "plt.figure(figsize=(15,8))\n",
    "plt.title('Год ремонта')\n",
    "sns.boxplot(x=df['year_remodeled'])\n",
    "plt.show()"
   ]
  },
  {
   "cell_type": "code",
   "execution_count": 65,
   "metadata": {},
   "outputs": [],
   "source": [
    "mask = df['year_remodeled'] >= 1500\n",
    "df = df[mask]"
   ]
  },
  {
   "cell_type": "markdown",
   "metadata": {},
   "source": [
    "Проверим, есть ли записи, где год ремонта раньше года постройки, и исправим это."
   ]
  },
  {
   "cell_type": "code",
   "execution_count": 66,
   "metadata": {},
   "outputs": [],
   "source": [
    "mask = df['year_remodeled'] < df['year_built']\n",
    "temp = df[mask]['year_remodeled']\n",
    "df.loc[mask, 'year_remodeled'] = df[mask]['year_built']\n",
    "df.loc[mask, 'year_built'] = temp"
   ]
  },
  {
   "cell_type": "code",
   "execution_count": 67,
   "metadata": {},
   "outputs": [
    {
     "data": {
      "image/png": "[encoded data removed]",
      "text/plain": [
       "<Figure size 1500x800 with 1 Axes>"
      ]
     },
     "metadata": {},
     "output_type": "display_data"
    }
   ],
   "source": [
    "plt.figure(figsize=(15,8))\n",
    "plt.title('Размер участка')\n",
    "sns.boxplot(x=df['lot_size'])\n",
    "plt.show()"
   ]
  },
  {
   "cell_type": "code",
   "execution_count": 68,
   "metadata": {},
   "outputs": [],
   "source": [
    "mask = df['lot_size'] <= 250000000\n",
    "df = df[mask]"
   ]
  },
  {
   "cell_type": "code",
   "execution_count": 69,
   "metadata": {},
   "outputs": [
    {
     "data": {
      "image/png": "[encoded data removed]",
      "text/plain": [
       "<Figure size 1500x800 with 1 Axes>"
      ]
     },
     "metadata": {},
     "output_type": "display_data"
    }
   ],
   "source": [
    "plt.figure(figsize=(15,8))\n",
    "plt.title('Среднее расстояние до школы')\n",
    "sns.boxplot(x=df['school_distance_mean'])\n",
    "plt.show()"
   ]
  },
  {
   "cell_type": "code",
   "execution_count": 70,
   "metadata": {},
   "outputs": [],
   "source": [
    "mask = df['school_distance_mean'] < 100\n",
    "df = df[mask]"
   ]
  },
  {
   "cell_type": "code",
   "execution_count": 71,
   "metadata": {},
   "outputs": [
    {
     "data": {
      "image/png": "[encoded data removed]",
      "text/plain": [
       "<Figure size 1500x800 with 1 Axes>"
      ]
     },
     "metadata": {},
     "output_type": "display_data"
    }
   ],
   "source": [
    "plt.figure(figsize=(15,8))\n",
    "plt.title('Количество парковочных мест')\n",
    "sns.boxplot(x=df['parking_spaces'])\n",
    "plt.show()"
   ]
  },
  {
   "cell_type": "code",
   "execution_count": 72,
   "metadata": {},
   "outputs": [],
   "source": [
    "mask = df['parking_spaces'] < 300\n",
    "df = df[mask]"
   ]
  },
  {
   "cell_type": "code",
   "execution_count": 73,
   "metadata": {},
   "outputs": [
    {
     "data": {
      "image/png": "[encoded data removed]",
      "text/plain": [
       "<Figure size 1500x800 with 1 Axes>"
      ]
     },
     "metadata": {},
     "output_type": "display_data"
    }
   ],
   "source": [
    "plt.figure(figsize=(15,8))\n",
    "plt.title('Стоимость дома')\n",
    "sns.histplot(df['target'])\n",
    "plt.show()"
   ]
  },
  {
   "cell_type": "code",
   "execution_count": 74,
   "metadata": {},
   "outputs": [],
   "source": [
    "mask = df['target'] < 10_000_000\n",
    "df = df[mask]"
   ]
  },
  {
   "cell_type": "markdown",
   "metadata": {},
   "source": [
    "Проверим корреляцию числовых признаков."
   ]
  },
  {
   "cell_type": "code",
   "execution_count": 76,
   "metadata": {},
   "outputs": [
    {
     "data": {
      "image/png": "[encoded data removed]",
      "text/plain": [
       "<Figure size 1500x800 with 2 Axes>"
      ]
     },
     "metadata": {},
     "output_type": "display_data"
    }
   ],
   "source": [
    "plt.figure(figsize=(15,8))\n",
    "sns.heatmap(df[[\n",
    "    'baths',\n",
    "    'sqft',\n",
    "    'beds',\n",
    "    'year_built',\n",
    "    'year_remodeled',\n",
    "    'lot_size',\n",
    "    'school_rate_mean',\n",
    "    'school_distance_mean',\n",
    "    'parking_spaces'\n",
    "]].corr(), annot=True)\n",
    "plt.show()"
   ]
  },
  {
   "cell_type": "markdown",
   "metadata": {},
   "source": [
    "Удалим признак year_remodeled, который сильно коррелирует с признаком year_built."
   ]
  },
  {
   "cell_type": "code",
   "execution_count": 77,
   "metadata": {},
   "outputs": [],
   "source": [
    "df = df.drop('year_remodeled', axis=1)"
   ]
  },
  {
   "cell_type": "markdown",
   "metadata": {},
   "source": [
    "Выделим признаки и целевую переменную, а также разделим датасет на обучающую и тестовую выборки."
   ]
  },
  {
   "cell_type": "code",
   "execution_count": 82,
   "metadata": {},
   "outputs": [],
   "source": [
    "X = df.drop('target', axis=1)\n",
    "y = df['target']\n",
    "X_train, X_test, y_train, y_test = train_test_split(X, y, test_size=0.2, random_state=42)"
   ]
  },
  {
   "cell_type": "markdown",
   "metadata": {},
   "source": [
    "Масштабируем признаки."
   ]
  },
  {
   "cell_type": "code",
   "execution_count": 83,
   "metadata": {},
   "outputs": [],
   "source": [
    "scaler = StandardScaler()\n",
    "X_train_scaled = pd.DataFrame(data=scaler.fit_transform(X_train), columns=X_train.columns)\n",
    "X_test_scaled = pd.DataFrame(data=scaler.transform(X_test), columns=X_test.columns)"
   ]
  },
  {
   "cell_type": "markdown",
   "metadata": {},
   "source": [
    "В качестве baseline будем использовать линейную регрессию,а в качестве метрики — RMSE."
   ]
  },
  {
   "cell_type": "code",
   "execution_count": 84,
   "metadata": {},
   "outputs": [
    {
     "name": "stdout",
     "output_type": "stream",
     "text": [
      "Train RMSE: 719635.7903889805\n",
      "Test RMSE: 714172.0277298869\n"
     ]
    }
   ],
   "source": [
    "linreg = LinearRegression()\n",
    "linreg.fit(X_train_scaled, y_train)\n",
    "y_train_pred = linreg.predict(X_train_scaled)\n",
    "y_test_pred  = linreg.predict(X_test_scaled)\n",
    "print('Train RMSE:', mean_squared_error(y_train, y_train_pred, squared=False))\n",
    "print('Test RMSE:', mean_squared_error(y_test, y_test_pred, squared=False))"
   ]
  },
  {
   "cell_type": "markdown",
   "metadata": {},
   "source": [
    "Будем вести табличку результатов."
   ]
  },
  {
   "cell_type": "code",
   "execution_count": 85,
   "metadata": {},
   "outputs": [],
   "source": [
    "table_dict = dict()\n",
    "table_columns = ['Train', 'Test']\n",
    "table_dict['Linear regression'] = [\n",
    "    mean_squared_error(y_train, y_train_pred, squared=False),\n",
    "    mean_squared_error(y_test, y_test_pred, squared=False)\n",
    "]"
   ]
  },
  {
   "cell_type": "markdown",
   "metadata": {},
   "source": [
    "Добавим регуляризацию. Подберем коэффициент регуляризации с помощью GridSearchCV."
   ]
  },
  {
   "cell_type": "code",
   "execution_count": 92,
   "metadata": {},
   "outputs": [
    {
     "name": "stdout",
     "output_type": "stream",
     "text": [
      "Fitting 5 folds for each of 6 candidates, totalling 30 fits\n",
      "Оптимальные параметры: {'alpha': 10}\n"
     ]
    }
   ],
   "source": [
    "linrg = Ridge(random_state=42)\n",
    "\n",
    "parameters = {\n",
    "    'alpha' : [0.1, 0.5, 1, 2, 5, 10]\n",
    "}\n",
    "grid_lr = GridSearchCV(\n",
    "    estimator = linrg,\n",
    "    param_grid = parameters,\n",
    "    scoring = 'neg_root_mean_squared_error',\n",
    "    cv = 5,\n",
    "    verbose=True,\n",
    "    n_jobs=-1\n",
    ")\n",
    "\n",
    "\n",
    "grid_lr.fit(X_train_scaled, y_train)\n",
    "lr_best_params = grid_lr.best_params_\n",
    "print('Оптимальные параметры:', grid_lr.best_params_)"
   ]
  },
  {
   "cell_type": "code",
   "execution_count": 93,
   "metadata": {},
   "outputs": [
    {
     "name": "stdout",
     "output_type": "stream",
     "text": [
      "Train RMSE: 719635.7121489758\n",
      "Test RMSE: 714170.9631135046\n"
     ]
    }
   ],
   "source": [
    "linrg = Ridge(random_state=42, **lr_best_params)\n",
    "linrg.fit(X_train_scaled, y_train)\n",
    "y_train_pred = linrg.predict(X_train_scaled)\n",
    "y_test_pred  = linrg.predict(X_test_scaled)\n",
    "print('Train RMSE:', mean_squared_error(y_train, y_train_pred, squared=False))\n",
    "print('Test RMSE:', mean_squared_error(y_test, y_test_pred, squared=False))"
   ]
  },
  {
   "cell_type": "code",
   "execution_count": 94,
   "metadata": {},
   "outputs": [],
   "source": [
    "table_dict['Linear regression (r12n)'] = [\n",
    "    mean_squared_error(y_train, y_train_pred, squared=False),\n",
    "    mean_squared_error(y_test, y_test_pred, squared=False)\n",
    "]"
   ]
  },
  {
   "cell_type": "code",
   "execution_count": 95,
   "metadata": {},
   "outputs": [
    {
     "name": "stdout",
     "output_type": "stream",
     "text": [
      "Fitting 5 folds for each of 18 candidates, totalling 90 fits\n",
      "Оптимальные параметры: {'max_depth': 6, 'min_samples_split': 4, 'splitter': 'best'}\n"
     ]
    }
   ],
   "source": [
    "dectree = DecisionTreeRegressor(random_state=42, criterion='squared_error')\n",
    "\n",
    "parameters = {\n",
    "    'splitter' : ['best', 'random'],\n",
    "    'max_depth' : [4, 5, 6],\n",
    "    'min_samples_split' : [4, 6, 8]\n",
    "}\n",
    "\n",
    "grid_dt = GridSearchCV(\n",
    "    estimator = dectree,\n",
    "    param_grid = parameters,\n",
    "    scoring = 'neg_root_mean_squared_error',\n",
    "    cv = 5,\n",
    "    verbose=True,\n",
    "    n_jobs=-1\n",
    ")\n",
    "\n",
    "\n",
    "grid_dt.fit(X_train_scaled, y_train)\n",
    "dt_best_params = grid_dt.best_params_\n",
    "print('Оптимальные параметры:', grid_dt.best_params_)"
   ]
  },
  {
   "cell_type": "markdown",
   "metadata": {},
   "source": [
    "{'max_depth': 6, 'min_samples_split': 4, 'splitter': 'best'}"
   ]
  },
  {
   "cell_type": "code",
   "execution_count": 96,
   "metadata": {},
   "outputs": [
    {
     "name": "stdout",
     "output_type": "stream",
     "text": [
      "Train RMSE: 664299.1056050058\n",
      "Test RMSE: 661162.8953026426\n"
     ]
    }
   ],
   "source": [
    "dectree = DecisionTreeRegressor(random_state=42, criterion='squared_error', **dt_best_params)\n",
    "dectree.fit(X_train_scaled, y_train)\n",
    "y_train_pred = dectree.predict(X_train_scaled)\n",
    "y_test_pred  = dectree.predict(X_test_scaled)\n",
    "print('Train RMSE:', mean_squared_error(y_train, y_train_pred, squared=False))\n",
    "print('Test RMSE:', mean_squared_error(y_test, y_test_pred, squared=False))"
   ]
  },
  {
   "cell_type": "code",
   "execution_count": 97,
   "metadata": {},
   "outputs": [],
   "source": [
    "table_dict['Decision Tree'] = [\n",
    "    mean_squared_error(y_train, y_train_pred, squared=False),\n",
    "    mean_squared_error(y_test, y_test_pred, squared=False)\n",
    "]"
   ]
  },
  {
   "cell_type": "code",
   "execution_count": 98,
   "metadata": {},
   "outputs": [
    {
     "name": "stdout",
     "output_type": "stream",
     "text": [
      "Fitting 5 folds for each of 36 candidates, totalling 180 fits\n",
      "Оптимальные параметры: {'criterion': 'squared_error', 'max_depth': 7, 'min_samples_split': 4, 'n_estimators': 200}\n"
     ]
    }
   ],
   "source": [
    "randfor = RandomForestRegressor(random_state=42)\n",
    "\n",
    "parameters = {\n",
    "    'n_estimators' : [100, 150, 200],\n",
    "    'criterion' : ['squared_error'],\n",
    "    'max_depth': range(4, 8),\n",
    "    'min_samples_split': [2, 4, 6]   \n",
    "}\n",
    "\n",
    "grid_rf = GridSearchCV(\n",
    "    estimator=randfor,\n",
    "    param_grid=parameters,\n",
    "    scoring = 'neg_root_mean_squared_error',\n",
    "    cv = 5,\n",
    "    verbose=True,\n",
    ")\n",
    "\n",
    "grid_rf.fit(X_train_scaled, y_train)\n",
    "rf_best_params = grid_rf.best_params_\n",
    "print('Оптимальные параметры:', grid_rf.best_params_)"
   ]
  },
  {
   "cell_type": "markdown",
   "metadata": {},
   "source": [
    "{'criterion': 'squared_error', 'max_depth': 7, 'min_samples_split': 2, 'n_estimators': 100}"
   ]
  },
  {
   "cell_type": "code",
   "execution_count": 99,
   "metadata": {},
   "outputs": [
    {
     "name": "stdout",
     "output_type": "stream",
     "text": [
      "Train RMSE: 631731.629515307\n",
      "Test RMSE: 631999.2771518213\n"
     ]
    }
   ],
   "source": [
    "randfor = RandomForestRegressor(random_state=42, **rf_best_params)\n",
    "randfor.fit(X_train_scaled, y_train)\n",
    "y_train_pred = randfor.predict(X_train_scaled)\n",
    "y_test_pred  = randfor.predict(X_test_scaled)\n",
    "print('Train RMSE:', mean_squared_error(y_train, y_train_pred, squared=False))\n",
    "print('Test RMSE:', mean_squared_error(y_test, y_test_pred, squared=False))"
   ]
  },
  {
   "cell_type": "code",
   "execution_count": 100,
   "metadata": {},
   "outputs": [],
   "source": [
    "table_dict['Random Forest'] = [\n",
    "    mean_squared_error(y_train, y_train_pred, squared=False),\n",
    "    mean_squared_error(y_test, y_test_pred, squared=False)\n",
    "]"
   ]
  },
  {
   "cell_type": "code",
   "execution_count": 101,
   "metadata": {},
   "outputs": [
    {
     "name": "stdout",
     "output_type": "stream",
     "text": [
      "Train RMSE: 482002.0984805611\n",
      "Test RMSE: 518616.85397251585\n"
     ]
    }
   ],
   "source": [
    "xgb = XGBRegressor(seed=42)\n",
    "xgb.fit(X_train_scaled, y_train)\n",
    "y_train_pred = xgb.predict(X_train_scaled)\n",
    "y_test_pred  = xgb.predict(X_test_scaled)\n",
    "print('Train RMSE:', mean_squared_error(y_train, y_train_pred, squared=False))\n",
    "print('Test RMSE:', mean_squared_error(y_test, y_test_pred, squared=False))"
   ]
  },
  {
   "cell_type": "code",
   "execution_count": 102,
   "metadata": {},
   "outputs": [],
   "source": [
    "table_dict['XGBoost'] = [\n",
    "    mean_squared_error(y_train, y_train_pred, squared=False),\n",
    "    mean_squared_error(y_test, y_test_pred, squared=False)\n",
    "]"
   ]
  },
  {
   "cell_type": "markdown",
   "metadata": {},
   "source": [
    "Итоговая таблица."
   ]
  },
  {
   "cell_type": "code",
   "execution_count": 104,
   "metadata": {},
   "outputs": [
    {
     "data": {
      "text/html": [
       "<div>\n",
       "<style scoped>\n",
       "    .dataframe tbody tr th:only-of-type {\n",
       "        vertical-align: middle;\n",
       "    }\n",
       "\n",
       "    .dataframe tbody tr th {\n",
       "        vertical-align: top;\n",
       "    }\n",
       "\n",
       "    .dataframe thead th {\n",
       "        text-align: right;\n",
       "    }\n",
       "</style>\n",
       "<table border=\"1\" class=\"dataframe\">\n",
       "  <thead>\n",
       "    <tr style=\"text-align: right;\">\n",
       "      <th></th>\n",
       "      <th>Train</th>\n",
       "      <th>Test</th>\n",
       "    </tr>\n",
       "  </thead>\n",
       "  <tbody>\n",
       "    <tr>\n",
       "      <th>Linear regression</th>\n",
       "      <td>719635.79</td>\n",
       "      <td>714172.03</td>\n",
       "    </tr>\n",
       "    <tr>\n",
       "      <th>Linear regression (r12n)</th>\n",
       "      <td>719635.71</td>\n",
       "      <td>714170.96</td>\n",
       "    </tr>\n",
       "    <tr>\n",
       "      <th>Decision Tree</th>\n",
       "      <td>664299.11</td>\n",
       "      <td>661162.90</td>\n",
       "    </tr>\n",
       "    <tr>\n",
       "      <th>Random Forest</th>\n",
       "      <td>631731.63</td>\n",
       "      <td>631999.28</td>\n",
       "    </tr>\n",
       "    <tr>\n",
       "      <th>XGBoost</th>\n",
       "      <td>482002.10</td>\n",
       "      <td>518616.85</td>\n",
       "    </tr>\n",
       "  </tbody>\n",
       "</table>\n",
       "</div>"
      ],
      "text/plain": [
       "                              Train       Test\n",
       "Linear regression         719635.79  714172.03\n",
       "Linear regression (r12n)  719635.71  714170.96\n",
       "Decision Tree             664299.11  661162.90\n",
       "Random Forest             631731.63  631999.28\n",
       "XGBoost                   482002.10  518616.85"
      ]
     },
     "execution_count": 104,
     "metadata": {},
     "output_type": "execute_result"
    }
   ],
   "source": [
    "final_table = pd.DataFrame.from_dict(data=table_dict, orient='index', columns=table_columns)\n",
    "final_table.round(2)"
   ]
  },
  {
   "cell_type": "markdown",
   "metadata": {},
   "source": [
    "Наилучший показатель у модели XGBoost, поэтому для решения задачи будем использовать ее."
   ]
  }
 ],
 "metadata": {
  "kernelspec": {
   "display_name": "Python 3",
   "language": "python",
   "name": "python3"
  },
  "language_info": {
   "codemirror_mode": {
    "name": "ipython",
    "version": 3
   },
   "file_extension": ".py",
   "mimetype": "text/x-python",
   "name": "python",
   "nbconvert_exporter": "python",
   "pygments_lexer": "ipython3",
   "version": "3.10.11"
  }
 },
 "nbformat": 4,
 "nbformat_minor": 2
}
